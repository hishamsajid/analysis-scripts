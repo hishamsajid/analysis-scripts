{
 "cells": [
  {
   "cell_type": "code",
   "execution_count": null,
   "metadata": {
    "collapsed": true
   },
   "outputs": [],
   "source": [
    "import pandas as pn\n",
    "from nltk import word_tokenize\n",
    "from nltk import pos_tag \n",
    "from nltk import ne_chunk\n",
    "from nltk.stem import PorterStemmer\n",
    "from nltk.stem import WordNetLemmatizer\n",
    "from nltk.corpus import stopwords\n",
    "from collections import Counter\n",
    "import csv\n",
    "import sys\n",
    "import string\n",
    "\n",
    "reload(sys)\n",
    "sys.setdefaultencoding('latin-1')\n",
    "stemmer = PorterStemmer()\n",
    "lemmatizer = WordNetLemmatizer()\n",
    "stop_words = set(stopwords.words(\"english\"))\n",
    "stop_words.update(['@','>','<','.',',','-','=','(',')','[',']','/','\\\\','?','_',\n",
    "'Hey','How','Does','AND','Has','`','Can','Could','First','Would'])"
   ]
  },
  {
   "cell_type": "code",
   "execution_count": null,
   "metadata": {
    "collapsed": true
   },
   "outputs": [],
   "source": [
    "logs_filtered = pn.read_csv('logs_filtered.csv', encoding = 'latin-1', engine = 'python')\n",
    "#logs_filtered['channel'].value_counts()\n",
    "logs_enhanced = pn.read_csv('logs_enhanced.csv', encoding = 'latin-1', engine = 'python')"
   ]
  },
  {
   "cell_type": "code",
   "execution_count": null,
   "metadata": {},
   "outputs": [],
   "source": [
    "vector_filtered = logs_filtered.loc[logs_filtered['num_questions'] > 0 ,'message']\n",
    "vector_enhanced = logs_enhanced.loc[logs_enhanced['num_questions'] > 0 ,'message']\n",
    "vector_filtered"
   ]
  },
  {
   "cell_type": "code",
   "execution_count": null,
   "metadata": {
    "scrolled": false
   },
   "outputs": [],
   "source": [
    "vector_enhanced = logs_enhanced.loc[(logs_enhanced['channel'] == 'measure (C031USB3Z)') ,'message']\n",
    "vector_filtered = logs_filtered['message']\n",
    "tg_list = []\n",
    "itr = 0\n",
    "for item in vector_filtered.iteritems():\n",
    "    #when .loc and iloc used\n",
    "    #tokenized_item = word_tokenize(item[1])\n",
    "    #print type(item)\n",
    "    #print type(item[1])\n",
    "    #print itr\n",
    "    try:\n",
    "        tokenized_item = word_tokenize(item[1])\n",
    "    except TypeError:\n",
    "        pass\n",
    "    #tokenized_item = word_tokenize(item[1])\n",
    "    stemmed_lemmatized_list = []\n",
    "    for word in tokenized_item:\n",
    "        lemmatized_item = lemmatizer.lemmatize(word)\n",
    "        #UNCOMMENT IF STEMMING IS TO BE APPLIED\n",
    "        #stemmed_item = stemmer.stem(lemmatized_item)\n",
    "        stemmed_lemmatized_list.append(lemmatized_item)\n",
    "   \n",
    "    filtered_item = [items for items in stemmed_lemmatized_list if not items in stop_words]\n",
    "    #print filtered_item\n",
    "    pos_item = pos_tag(filtered_item)\n",
    "    tg_item_tree = ne_chunk(pos_item)\n",
    "    tree_leaves = tg_item_tree.leaves()\n",
    "    itr1 = 0\n",
    "\n",
    "    while(itr1 < len(tree_leaves)):\n",
    "     \n",
    "       if(tree_leaves[itr1][1] == 'NNP'):\n",
    "            item = tree_leaves[itr1][0]\n",
    "            tg_list.append(item)\n",
    "            \n",
    "       itr1 += 1\n",
    "\n",
    "    itr +=1\n",
    "    #UNCOMMENT FOR TESTING ON LIMITED NUMBER OF ITEMS:\n",
    "    #if(itr == 10):\n",
    "    #    break\n",
    "    \n",
    "most_common = [item for item in Counter(tg_list).most_common()]\n",
    "print itr\n",
    "most_common"
   ]
  },
  {
   "cell_type": "code",
   "execution_count": null,
   "metadata": {
    "collapsed": true
   },
   "outputs": [],
   "source": [
    "with open('common_questions_after_outlier removal.csv', 'wb') as myfile:\n",
    "    wr = csv.writer(myfile, quoting=csv.QUOTE_ALL)\n",
    "    wr.writerow(most_common)\n"
   ]
  }
 ],
 "metadata": {
  "kernelspec": {
   "display_name": "Python 2",
   "language": "python",
   "name": "python2"
  },
  "language_info": {
   "codemirror_mode": {
    "name": "ipython",
    "version": 2
   },
   "file_extension": ".py",
   "mimetype": "text/x-python",
   "name": "python",
   "nbconvert_exporter": "python",
   "pygments_lexer": "ipython2",
   "version": "2.7.14"
  }
 },
 "nbformat": 4,
 "nbformat_minor": 2
}
