{
 "cells": [
  {
   "cell_type": "code",
   "execution_count": 1,
   "metadata": {
    "collapsed": true
   },
   "outputs": [],
   "source": [
    "%matplotlib nbagg\n",
    "%matplotlib inline\n",
    "import pandas as pn\n",
    "import numpy as np\n",
    "import matplotlib.pyplot as plt\n",
    "from sklearn import preprocessing\n"
   ]
  },
  {
   "cell_type": "code",
   "execution_count": 2,
   "metadata": {
    "collapsed": true
   },
   "outputs": [],
   "source": [
    "logs = pn.read_csv(\"logs_enhanced.csv\")\n",
    "logs_filtered = pn.read_csv('logs_filtered.csv')"
   ]
  },
  {
   "cell_type": "code",
   "execution_count": 3,
   "metadata": {},
   "outputs": [
    {
     "data": {
      "text/plain": [
       "36.357594936708864"
      ]
     },
     "execution_count": 3,
     "metadata": {},
     "output_type": "execute_result"
    }
   ],
   "source": [
    "users = logs['users']\n",
    "users_v_messages = users.value_counts()\n",
    "#users_v_messages.plot(x = 'number of users', y ='number of messages',kind = 'hist')\n",
    "users_v_messages.mean()"
   ]
  },
  {
   "cell_type": "code",
   "execution_count": null,
   "metadata": {
    "collapsed": true
   },
   "outputs": [],
   "source": [
    "channels = logs[\"channel\"]"
   ]
  },
  {
   "cell_type": "code",
   "execution_count": null,
   "metadata": {
    "collapsed": true
   },
   "outputs": [],
   "source": [
    "users_asking = logs.loc[(logs['num_questions'] > 0), 'users']\n",
    "users_asking.describe()"
   ]
  },
  {
   "cell_type": "code",
   "execution_count": null,
   "metadata": {
    "collapsed": true
   },
   "outputs": [],
   "source": [
    "value_count = users_asking.value_counts()"
   ]
  },
  {
   "cell_type": "code",
   "execution_count": null,
   "metadata": {
    "collapsed": true
   },
   "outputs": [],
   "source": [
    "value_keys = value_count.keys()\n",
    "type(value_keys)"
   ]
  },
  {
   "cell_type": "code",
   "execution_count": null,
   "metadata": {
    "collapsed": true
   },
   "outputs": [],
   "source": [
    "\n",
    "logs[np.abs(logs['']-df.Data.mean())<=(3*df.Data.std())] #keep only the ones that are within +3 to -3 standard deviations in the column 'Data'.\n",
    "logs[~(np.abs(logs[Data-df.Data.mean())>(3*df.Data.std()))] #or if you prefer the other way around"
   ]
  },
  {
   "cell_type": "code",
   "execution_count": null,
   "metadata": {
    "collapsed": true
   },
   "outputs": [],
   "source": [
    "len(value_count)"
   ]
  },
  {
   "cell_type": "code",
   "execution_count": null,
   "metadata": {
    "collapsed": true
   },
   "outputs": [],
   "source": [
    "filtered_users = []\n",
    "i = 0\n",
    "for item in value_count.iteritems():\n",
    "    if(item[1] < 50):\n",
    "        filtered_users.append(item[0])\n",
    "set(filtered_users)"
   ]
  },
  {
   "cell_type": "code",
   "execution_count": null,
   "metadata": {
    "collapsed": true
   },
   "outputs": [],
   "source": [
    "logs_filtered = logs[~logs['users'].isin(filtered_users)]\n",
    "logs_filtered['users'].describe()"
   ]
  },
  {
   "cell_type": "code",
   "execution_count": null,
   "metadata": {
    "collapsed": true
   },
   "outputs": [],
   "source": [
    "users_logs_filtered = logs_filtered.loc[(logs_filtered['num_questions'] > 0), 'users']\n",
    "users_logs_filtered.describe()\n",
    "users_logs_filtered.value_counts()"
   ]
  },
  {
   "cell_type": "code",
   "execution_count": null,
   "metadata": {
    "collapsed": true
   },
   "outputs": [],
   "source": []
  },
  {
   "cell_type": "code",
   "execution_count": null,
   "metadata": {
    "collapsed": true
   },
   "outputs": [],
   "source": []
  },
  {
   "cell_type": "code",
   "execution_count": null,
   "metadata": {
    "collapsed": true
   },
   "outputs": [],
   "source": [
    "value_count.plot(kind = 'hist',grid = 'TRUE', title = 'Frequency histogram, users and messages')"
   ]
  },
  {
   "cell_type": "code",
   "execution_count": 19,
   "metadata": {
    "collapsed": true
   },
   "outputs": [],
   "source": [
    "users = logs.loc[(logs['num_questions'] > 0) & \n",
    "                 ( (logs['channel'] == 'adobe-dtm (C2PN1PYA2)') | (logs['channel'] == 'adobe-analytics (C03AFUKHC)') ) & \n",
    "                 ( (logs['channel'] == 'google-analytics (C03AE85U5)') |  (logs['channel'] == 'google-gtm (C2PNCCZ1V)') ) &\n",
    "                 (logs['channel'] == 'r-and-statistics (C07AFPUA0)') , 'users']"
   ]
  },
  {
   "cell_type": "code",
   "execution_count": 23,
   "metadata": {
    "collapsed": true
   },
   "outputs": [],
   "source": [
    "users = logs.loc[( (logs['channel'] == 'adobe-dtm (C2PN1PYA2)') | (logs['channel'] == 'adobe-analytics (C03AFUKHC)') ) & \n",
    "                 ( (logs['channel'] == 'google-analytics (C03AE85U5)') |  (logs['channel'] == 'google-gtm (C2PNCCZ1V)') ) &\n",
    "                 (logs['channel'] == 'r-and-statistics (C07AFPUA0)') , 'users']"
   ]
  },
  {
   "cell_type": "code",
   "execution_count": 57,
   "metadata": {
    "collapsed": true
   },
   "outputs": [],
   "source": [
    "users = logs.loc[(logs['channel'] == 'r-and-statistics (C07AFPUA0)') ,'users']"
   ]
  },
  {
   "cell_type": "code",
   "execution_count": 58,
   "metadata": {},
   "outputs": [
    {
     "data": {
      "text/plain": [
       "count                       1497\n",
       "unique                        87\n",
       "top       holomarked (U03B28C4T)\n",
       "freq                         217\n",
       "Name: users, dtype: object"
      ]
     },
     "execution_count": 58,
     "metadata": {},
     "output_type": "execute_result"
    }
   ],
   "source": [
    "users.describe()"
   ]
  },
  {
   "cell_type": "code",
   "execution_count": null,
   "metadata": {
    "collapsed": true
   },
   "outputs": [],
   "source": [
    "questions.describe()"
   ]
  },
  {
   "cell_type": "code",
   "execution_count": null,
   "metadata": {
    "collapsed": true
   },
   "outputs": [],
   "source": []
  }
 ],
 "metadata": {
  "kernelspec": {
   "display_name": "Python 2",
   "language": "python",
   "name": "python2"
  },
  "language_info": {
   "codemirror_mode": {
    "name": "ipython",
    "version": 2
   },
   "file_extension": ".py",
   "mimetype": "text/x-python",
   "name": "python",
   "nbconvert_exporter": "python",
   "pygments_lexer": "ipython2",
   "version": "2.7.14"
  }
 },
 "nbformat": 4,
 "nbformat_minor": 2
}
