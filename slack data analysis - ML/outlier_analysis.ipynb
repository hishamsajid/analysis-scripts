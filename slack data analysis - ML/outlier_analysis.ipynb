{
 "cells": [
  {
   "cell_type": "code",
   "execution_count": 1,
   "metadata": {
    "collapsed": true
   },
   "outputs": [],
   "source": [
    "%matplotlib inline\n",
    "import pandas as pn\n",
    "import numpy as np\n",
    "import csv"
   ]
  },
  {
   "cell_type": "code",
   "execution_count": 5,
   "metadata": {},
   "outputs": [
    {
     "data": {
      "text/plain": [
       "jennkunz (U0MNSUSKX)           1033\n",
       "joaocorreia (U03PCB2GE)         870\n",
       "mgershoff (U2JHKTM8T)           785\n",
       "andrew.r (U2YSPDZP1)            783\n",
       "soulshaolin (U11A92MD0)         745\n",
       "pawelk (U06DY96TX)              607\n",
       "michelejkiss (U03A8AV32)        572\n",
       "toddbullivant (U349EMRLM)       557\n",
       "tony (U2GC2BM3R)                556\n",
       "sleepless_sf (U10ADD5BJ)        539\n",
       "yuhui (U2Y1ZG3C3)               532\n",
       "ericmatisoff (U03ANLRLM)        522\n",
       "jason__charles (U0JPAJ5F0)      521\n",
       "seth (U224G9N1H)                502\n",
       "lukas.oldenburg (U1V7GT4PQ)     488\n",
       "prolet (U1DNJKD4N)              468\n",
       "jack (U0X7169QT)                443\n",
       "leeisensee (U031USB3P)          406\n",
       "mjgoldsmith (U2289HSG3)         389\n",
       "holomarked (U03B28C4T)          389\n",
       "tgwilson (U03A70QL9)            377\n",
       "mattytwoshoes (U2FQWM0FQ)       374\n",
       "oarsi (U0Q4JP9FX)               319\n",
       "arob (U2YSPDZP1)                313\n",
       "benjamingaines (U03AH0B33)      294\n",
       "brianau (U03B1HRK0)             290\n",
       "smalls (U03A89WJG)              274\n",
       "moemkiss (U0792P79S)            273\n",
       "highlearn (U08NA5WKC)           270\n",
       "josh (U2U2TJJMA)                267\n",
       "                               ... \n",
       "david.berger (U76RP27CM)          1\n",
       "cliffykonline (U26ENNW1J)         1\n",
       "sirchicken (U3HQ3SSBE)            1\n",
       "raphael (U5F68JUBG)               1\n",
       "admangraff (U6W3ESJ04)            1\n",
       "adam__lindsey (U1A0Z051N)         1\n",
       "arh2155 (U74D4QPH6)               1\n",
       "slarobs (U3MLE90AG)               1\n",
       "muldermedia (U0CC1LCBW)           1\n",
       "tkaufmann (U34PQ03CP)             1\n",
       "zarapalevani (U0NJP86CA)          1\n",
       "jonaspau (U4TCWHM18)              1\n",
       "tgunn3 (U2Z25TPB9)                1\n",
       "canonicalized (U4ZU7V7HC)         1\n",
       "referguson (U4GN36VHN)            1\n",
       "rafamismo (U4RLYK919)             1\n",
       "jonasnewsome (U03UWDBCB)          1\n",
       "sam.redfern (U07DYLUV6)           1\n",
       "dylan (U5RCVCTD3)                 1\n",
       "mitchellt (U3NLPQ81L)             1\n",
       "timmychap (U2BBPJDQ9)             1\n",
       "raventhon (U7QSRFRGT)             1\n",
       "flo_perl (U3VTV1ENM)              1\n",
       "willchamberlin (U7H5R09J7)        1\n",
       "lalaforte (U59R9LQSK)             1\n",
       "tristanbailey (U2BU6DPSA)         1\n",
       "kevinkauzlaric (U083YTERY)        1\n",
       "dmilmont (U2R2L51V0)              1\n",
       "zain (U3BE6QP0R)                  1\n",
       "dj (U6B0K42DS)                    1\n",
       "Name: users, Length: 948, dtype: int64"
      ]
     },
     "execution_count": 5,
     "metadata": {},
     "output_type": "execute_result"
    }
   ],
   "source": [
    "logs = pn.read_csv(\"logs_enhanced.csv\")\n",
    "users = logs['users']\n",
    "users_v_messages = users.value_counts()\n",
    "#users_v_messages.plot(x = 'number of users', y ='number of messages',kind = 'hist')\n",
    "sd = users_v_messages.std()\n",
    "mean = users_v_messages.mean()\n",
    "#users_v_messages.plot(kind = 'box')\n",
    "#users_v_messages.sum()\n",
    "users_v_messages"
   ]
  },
  {
   "cell_type": "code",
   "execution_count": null,
   "metadata": {},
   "outputs": [],
   "source": [
    "logs['channel'].value_counts()"
   ]
  },
  {
   "cell_type": "code",
   "execution_count": null,
   "metadata": {},
   "outputs": [],
   "source": [
    "users.describe()"
   ]
  },
  {
   "cell_type": "code",
   "execution_count": 3,
   "metadata": {},
   "outputs": [
    {
     "data": {
      "text/plain": [
       "910"
      ]
     },
     "execution_count": 3,
     "metadata": {},
     "output_type": "execute_result"
    }
   ],
   "source": [
    "#final_list = [x for x in arr if (x > mean - 2 * sd)]\n",
    "#final_list = [x for x in final_list if (x < mean + 2 * sd)]\n",
    "\n",
    "\n",
    "filtered_users = []\n",
    "for item in users_v_messages.iteritems():\n",
    "    if(item[1] < (mean + 2*sd) and item[1] > (mean - 2*sd) ):\n",
    "        #print item\n",
    "        filtered_users.append(item[0])\n",
    "        \n",
    "len(filtered_users)"
   ]
  },
  {
   "cell_type": "code",
   "execution_count": null,
   "metadata": {},
   "outputs": [],
   "source": [
    "logs['users'].describe()"
   ]
  },
  {
   "cell_type": "code",
   "execution_count": 4,
   "metadata": {
    "collapsed": true
   },
   "outputs": [],
   "source": [
    "logs_filtered = logs[logs['users'].isin(filtered_users)]\n",
    "#users_asking = logs_filtered.loc[(logs_filtered['num_questions'] > 0), 'users']\n",
    "#users_asking.value_counts()\n",
    "filtered_users_series = logs_filtered['users'].value_counts()\n",
    "#filtered_users_series.plot(kind = 'box')\n",
    "#filtered_users_series.describe()\n",
    "#filtered_users_series.sum()\n",
    "\n",
    "logs_filtered.to_csv('logs_filtered.csv', index = False)"
   ]
  },
  {
   "cell_type": "code",
   "execution_count": 8,
   "metadata": {},
   "outputs": [
    {
     "data": {
      "text/plain": [
       "Text(0,0.5,u'number of users falling the range')"
      ]
     },
     "execution_count": 8,
     "metadata": {},
     "output_type": "execute_result"
    },
    {
     "data": {
      "image/png": "[encoded data removed]",
      "text/plain": [
       "<matplotlib.figure.Figure at 0x10ad34910>"
      ]
     },
     "metadata": {},
     "output_type": "display_data"
    }
   ],
   "source": [
    "logs_filtered = pn.read_csv('logs_filtered.csv', engine = 'python')\n",
    "users_messages = logs_filtered['users']\n",
    "messages_count = users_messages.value_counts()\n",
    "plot = messages_count.plot(kind = 'hist', title = 'users and their messages after outlier removal')\n",
    "plot.set_xlabel('range: number of messages by users')\n",
    "plot.set_ylabel('number of users falling the range')"
   ]
  },
  {
   "cell_type": "code",
   "execution_count": null,
   "metadata": {},
   "outputs": [],
   "source": [
    "users = logs.loc[(logs['channel'] == 'google-gtm (C2PNCCZ1V)'), 'users']\n",
    "users_count = users.value_counts()\n",
    "plot = users_count.plot(kind = 'hist', title = 'before outlier removal in Google GTM')\n",
    "plot.set_xlabel('range: number of messages by users')\n",
    "plot.set_ylabel('number of users falling in range')"
   ]
  },
  {
   "cell_type": "code",
   "execution_count": null,
   "metadata": {},
   "outputs": [],
   "source": [
    "users = logs_filtered.loc[(logs_filtered['channel'] == 'google-gtm (C2PNCCZ1V)'), 'users']\n",
    "users_count = users.value_counts()\n",
    "plot = users_count.plot(kind = 'hist', title = 'after outlier removal in Google GTM')\n",
    "plot.set_xlabel('range: number of messages by users')\n",
    "plot.set_ylabel('number of users falling in range')"
   ]
  },
  {
   "cell_type": "code",
   "execution_count": null,
   "metadata": {
    "scrolled": false
   },
   "outputs": [],
   "source": [
    "channels = logs_filtered['users']\n",
    "channels.describe()"
   ]
  },
  {
   "cell_type": "code",
   "execution_count": null,
   "metadata": {},
   "outputs": [],
   "source": [
    "users = logs_filtered.loc[(logs_filtered['channel'] == 'conferences (C03A92FM6)', 'users')]\n",
    "users.describe()"
   ]
  },
  {
   "cell_type": "code",
   "execution_count": 9,
   "metadata": {},
   "outputs": [
    {
     "data": {
      "text/plain": [
       "adobe-analytics (C03AFUKHC)       3923\n",
       "google-analytics (C03AE85U5)      3219\n",
       "measure (C031USB3Z)               2407\n",
       "adobe-dtm (C2PN1PYA2)             1262\n",
       "google-gtm (C2PNCCZ1V)             991\n",
       "r-and-statistics (C07AFPUA0)       799\n",
       "testing (C03A5KC5F)                708\n",
       "blogs-and-podcasts (C03FZMX4T)     587\n",
       "conferences (C03A92FM6)            572\n",
       "lobby-bar (C031USB41)              558\n",
       "job-postings (C03BWP4QJ)           509\n",
       "data-viz (C03JMFY5U)               502\n",
       "bi-tools (C07AF8DH6)               459\n",
       "women-in-analytics (C20HQRV9V)     455\n",
       "data-science (C07AFPUA0)           367\n",
       "NO                                 352\n",
       "0                                  333\n",
       "seo-sem (C03B1QXCB)                143\n",
       "app-analytics (C4ZEXTF19)           96\n",
       "adobe-summit-2017 (C4H5E66N5)       90\n",
       "daa (C0GNTDNHW)                     50\n",
       "1                                   22\n",
       "mobile (C4ZEXTF19)                  15\n",
       "emetrics-sf-2017 (C5DQMM5PZ)        12\n",
       "YES                                  4\n",
       "slack-how-to (C03BHDKGD)             1\n",
       "3                                    1\n",
       "Name: channel, dtype: int64"
      ]
     },
     "execution_count": 9,
     "metadata": {},
     "output_type": "execute_result"
    }
   ],
   "source": [
    "filtered_ranking = logs_filtered['channel'].value_counts()\n",
    "filtered_ranking"
   ]
  }
 ],
 "metadata": {
  "kernelspec": {
   "display_name": "Python 2",
   "language": "python",
   "name": "python2"
  },
  "language_info": {
   "codemirror_mode": {
    "name": "ipython",
    "version": 2
   },
   "file_extension": ".py",
   "mimetype": "text/x-python",
   "name": "python",
   "nbconvert_exporter": "python",
   "pygments_lexer": "ipython2",
   "version": "2.7.14"
  }
 },
 "nbformat": 4,
 "nbformat_minor": 2
}
